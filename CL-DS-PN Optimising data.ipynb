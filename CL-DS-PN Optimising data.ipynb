{
 "cells": [
  {
   "cell_type": "markdown",
   "metadata": {},
   "source": [
    "# Central London Data Science Project Nights\n",
    "### Optimising training data for urban wind predictions\n",
    "The focus of this meetup is in finding out different ways in which training data can be structure in order to improve a models accuracy.\n",
    "\n",
    "\n",
    "### The data\n",
    "The data supplied is sythetically generated urban wind data from 3 streets. The csv is structure as follows:\n",
    "\n",
    "street 1 wind speed (m/s), street 1 wind direction (degrees), street 2 wind speed (m/s), street 2 wind direction (degrees), street 3 wind speed (m/s), street 3 wind direction (degrees)\n",
    "\n",
    "The predicted value is the wind direction of the 3rd street"
   ]
  },
  {
   "cell_type": "code",
   "execution_count": 1,
   "metadata": {
    "collapsed": false
   },
   "outputs": [],
   "source": [
    "%matplotlib inline\n",
    "import matplotlib.pyplot as plt\n",
    "import numpy as np\n",
    "from sklearn import datasets, linear_model\n",
    "from sklearn.preprocessing import PolynomialFeatures"
   ]
  },
  {
   "cell_type": "markdown",
   "metadata": {},
   "source": [
    "### Load csv data\n",
    "street1 wind speed, street1 wind direction,street2 wind speed, street2 wind direction,street3 wind speed, street3 wind direction,"
   ]
  },
  {
   "cell_type": "code",
   "execution_count": 2,
   "metadata": {
    "collapsed": false
   },
   "outputs": [
    {
     "data": {
      "text/plain": [
       "(array([[  38.57 ,  126.087,   47.134,   46.155,   19.41 ,  115.275]]),\n",
       " (2000, 6))"
      ]
     },
     "execution_count": 2,
     "metadata": {},
     "output_type": "execute_result"
    }
   ],
   "source": [
    "f = open(\"wind.csv\")\n",
    "data = np.loadtxt(f,delimiter=',')\n",
    "# show first row of data\n",
    "data[:1],data.shape"
   ]
  },
  {
   "cell_type": "markdown",
   "metadata": {},
   "source": [
    "# Transform the input data function (the fun bit)"
   ]
  },
  {
   "cell_type": "code",
   "execution_count": 3,
   "metadata": {
    "collapsed": true
   },
   "outputs": [],
   "source": [
    "def transformInputData(inputData):\n",
    "    \n",
    "    # this is where you put explore different way the data can be structed\n",
    "    \n",
    "    # feel free to write one for the output data to if you want \n",
    "    # (dont forget to reverse what you do for the output when submiting to scilan)\n",
    "    \n",
    "    return inputData"
   ]
  },
  {
   "cell_type": "markdown",
   "metadata": {},
   "source": [
    "### Split data into training and test data"
   ]
  },
  {
   "cell_type": "code",
   "execution_count": 4,
   "metadata": {
    "collapsed": false
   },
   "outputs": [
    {
     "data": {
      "text/plain": [
       "array([[  38.57 ,  126.087,   47.134,   46.155],\n",
       "       [  26.019,  343.995,   31.961,   54.67 ],\n",
       "       [  38.568,  129.103,   31.58 ,   67.669]])"
      ]
     },
     "execution_count": 4,
     "metadata": {},
     "output_type": "execute_result"
    }
   ],
   "source": [
    "# use first 4 columns as the input data to a our model\n",
    "x_data = transformInputData(data[:,:4])\n",
    "\n",
    "# use first 1500 rows as training input data\n",
    "x_train = x_data[:1500]\n",
    "\n",
    "# use the remaining 500 rows as test input data\n",
    "x_test = x_data[1500:]\n",
    "\n",
    "# show first 3 rows of training input data\n",
    "x_train[:3]"
   ]
  },
  {
   "cell_type": "code",
   "execution_count": 5,
   "metadata": {
    "collapsed": false
   },
   "outputs": [
    {
     "data": {
      "text/plain": [
       "array([ 115.275,  332.388,  143.187])"
      ]
     },
     "execution_count": 5,
     "metadata": {},
     "output_type": "execute_result"
    }
   ],
   "source": [
    "# use 5th column as the ouput data to a our model\n",
    "y_data = data[:,5]\n",
    "\n",
    "# use first 1500 rows as training ouput data\n",
    "y_train = y_data[:1500]\n",
    "\n",
    "# use the remaining 500 rows as test output data\n",
    "y_test = y_data[1500:]\n",
    "\n",
    "# show first 3 rows of training output data\n",
    "y_train[:3]"
   ]
  },
  {
   "cell_type": "markdown",
   "metadata": {},
   "source": [
    "### Train model"
   ]
  },
  {
   "cell_type": "code",
   "execution_count": 6,
   "metadata": {
    "collapsed": false
   },
   "outputs": [
    {
     "name": "stdout",
     "output_type": "stream",
     "text": [
      "Coefficients: \n",
      " [ 0.22249504  0.76446031 -0.17549725 -0.08686491]\n",
      "Mean squared error: 5106.20\n"
     ]
    }
   ],
   "source": [
    "regr = linear_model.LinearRegression()\n",
    "regr.fit(x_train, y_train)\n",
    "print('Coefficients: \\n', regr.coef_)\n",
    "print(\"Mean squared error: %.2f\"% np.mean((regr.predict(x_test) - y_test) ** 2))"
   ]
  },
  {
   "cell_type": "markdown",
   "metadata": {},
   "source": [
    "### Plot predictions"
   ]
  },
  {
   "cell_type": "code",
   "execution_count": 7,
   "metadata": {
    "collapsed": false
   },
   "outputs": [
    {
     "data": {
      "image/png": "[encoded data removed]",
      "text/plain": [
       "<matplotlib.figure.Figure at 0x10f25c390>"
      ]
     },
     "metadata": {},
     "output_type": "display_data"
    }
   ],
   "source": [
    "plt.scatter(x_train[:,1], y_train,  color='black', s=1)\n",
    "plt.scatter(x_test[:,1], regr.predict(x_test),  color='red', s=1)\n",
    "plt.show()"
   ]
  },
  {
   "cell_type": "markdown",
   "metadata": {},
   "source": [
    "# Scilan data entry"
   ]
  },
  {
   "cell_type": "code",
   "execution_count": 8,
   "metadata": {
    "collapsed": false
   },
   "outputs": [
    {
     "data": {
      "text/plain": [
       "<matplotlib.collections.PathCollection at 0x111c620f0>"
      ]
     },
     "execution_count": 8,
     "metadata": {},
     "output_type": "execute_result"
    },
    {
     "data": {
      "image/png": "[encoded data removed]",
      "text/plain": [
       "<matplotlib.figure.Figure at 0x10f25c160>"
      ]
     },
     "metadata": {},
     "output_type": "display_data"
    }
   ],
   "source": [
    "f = open(\"scilan-test-inputs.csv\")\n",
    "scilan_data = np.loadtxt(f,delimiter=',')\n",
    "\n",
    "scilan_x = transformInputData(scilan_data)\n",
    "\n",
    "scilan_pred = regr.predict(scilan_x)\n",
    "\n",
    "plt.scatter(scilan_data[:,1], scilan_pred,  color='red', s=1)"
   ]
  },
  {
   "cell_type": "markdown",
   "metadata": {},
   "source": [
    "## Copy the ouput of the following code into the 'Predicted Output' field of the submit attempt page (excluding the quotes) "
   ]
  },
  {
   "cell_type": "code",
   "execution_count": 9,
   "metadata": {
    "collapsed": false
   },
   "outputs": [
    {
     "data": {
      "text/plain": [
       "'174.521361949,285.623969809,202.543607336,302.509811342,171.750166845,120.45835121,267.583435489,188.787760849,283.216018786,163.09037336,159.514343163,342.524240513,161.936271984,293.963110167,200.580487682,298.619385931,219.965532649,304.864365013,179.519658939,324.86356375,334.733529637,260.062549061,330.89949347,217.045833906,296.182552038,171.195558576,315.929135847,99.8197973245,80.7641751447,169.28857637,104.583359877,107.161279756,170.705680212,169.595724714,286.059756193,161.371810467,165.144374256,174.415871552,167.968951045,107.391458818,166.367165691,286.098180583,174.622441557,146.322604735,293.689054512,295.263816919,171.578225073,158.941292896,167.573637115,157.836532966,260.242528932,318.32311178,247.064962673,334.024488344,289.522453057,323.416670993,232.315196332,175.983900435,136.804013472,240.851821033,160.548591909,165.081781269,163.306007914,171.008276938,318.329730946,288.19173079,171.647555701,280.775239939,183.231062756,118.471620938,174.138863623,296.317501174,255.557599886,172.843803171,205.939298499,156.557324919,254.242568993,159.867175657,162.136857151,161.323435382,305.765839074,309.106802364,161.267210155,158.854516652,178.471395531,166.877074642,263.384033859,325.726871684,282.184867492,314.564391225,314.8409895,173.27644371,314.883079374,166.099393033,176.942820427,169.414672445,166.24032268,331.911731955,333.376553836,324.727459321,307.184783864,160.220147816,172.270342219,305.619978661,179.838774966,177.852689304,244.494344444,240.03295361,176.503432531,309.291893631,170.984296197,165.703861041,127.092832689,175.327687275,181.009636655,179.268513171,112.390539729,272.960456738,170.583825404,101.496436806,179.784189615,79.8955319132,176.902488229,286.984568409,180.062988405,94.0817601406,164.126028577,179.967063284,148.564174864,156.647003187,299.591896303,285.223392922,310.335111901,313.188620019,160.258309443,167.284522515,160.996004782,177.779746046,186.233922807,140.283239785,324.050163888,313.48207228,171.847125078,171.16439044,172.260195929,254.439449329,162.7617492,183.80606183,308.046580257,150.73405554,291.794256325,279.318269518,121.808927547,100.635924271,277.809421699,297.56421055,288.97164446,156.048912785,179.61136738,167.748934905,158.461183031,170.373799465,283.928665938,289.829117595,312.223454981,318.033095768,143.856360016,172.41798973,273.304050823,305.234425397,162.339785351,129.083760906,244.661491506,175.503889155,264.040543692,163.278436775,170.764831472,146.616742645,303.194108928,259.039201292,220.511459073,273.123279399,238.611896737,146.410655917,169.648579963,217.863908666,162.359455318,296.966035531,160.059901125,168.251260824,282.360673464,285.283123399,157.980193642,171.755656366,283.057130425,208.11493474,110.692791635,169.716881945,173.989305308,175.774514401,330.30476654,159.583097895,162.63112318,267.733395886,170.484972536,180.343035269,166.860731001,176.167252072,284.94466368,161.467740437,290.616333465,162.34582845,184.497599116,162.639367396,328.53098639,299.838945787,161.669185731,285.279304942,179.758906987,315.771647929,88.0541848517,171.850152793,181.453610496,168.883740228,292.707819909,156.037693675,317.406751964,149.835496519,265.419981512,165.440164375,291.308965558,327.553758017,318.424251852,168.619656206,172.688566084,290.947178025,312.327572288,304.11805402,276.020406162,300.036942187,170.726903866,288.709137527,165.805568809,84.4881980001,162.058524967,176.054479406,159.514147508,151.641595408,176.346449401,152.722843889,263.913384339,172.358323179,170.093623097,171.698394006,288.575238367,320.163381991,210.389035004,198.363298257,171.88979079,173.792954845,166.151693369,97.9243749546,219.280050375,119.017314303,157.769567161,304.30416038,317.888189659,272.261179149,326.53105859,274.5546829,334.288679249,157.86155417,152.562729813,179.377043022,174.298376048,119.915177505,331.21850906,318.538165464,211.919166211,157.411938846,175.472445665,174.627301365,241.412801805,307.949035486,161.308344967,199.228366093,190.533035589,326.02126097,154.688597271,170.271075959,180.847527895,169.437462608,310.344252431,198.393247754,329.175940213,175.365464184,281.555592535,85.2496188385,285.693291836,169.512567545,311.981431391,168.215174295,178.302089211,320.262451639,280.220494666,285.336570282,173.743805266,172.765867494,168.907899923,303.2257356,164.564726357,167.287490044,178.121567009,301.956087413,148.56978908,296.711968016,175.899241425,177.811552392,148.145475764,287.278148679,276.403077449,292.620367944,325.438737786,163.765225828,265.308448831,169.721436508,245.426745654,204.74757046,289.808238649,289.291171374,292.747658658,323.815110968,295.988749613,297.075557193,172.127238783,311.094867386,262.709312311,329.778074125,172.209872737,175.005839479,226.35576508,162.499490306,170.271787163,114.69080382,334.566066341,327.780429759,164.774046419,170.149316314,300.966197889,163.239844191,292.739254584,314.339448176,203.241909044,183.453505291,117.625863626,200.689783944,166.684723384,171.706595849,309.597759689,175.170368194,266.898303686,290.942380929,169.443481897,301.601820868,228.476055237,248.01413462,238.480152192,282.469993616,311.384514099,171.346903643,162.975124996,297.050237134,289.618502384,160.06942402,282.054372077,310.583859537,170.965618961,293.147720126,165.725528894,283.33561308,226.365639225,300.783032792,324.596307731,104.902382454,187.879239906,161.756515952,338.397110202,283.94016811,298.843162067,218.264272301,178.59123449,336.249387779,287.934418802,318.636179609,295.711858366,289.255253126,179.426109998,164.245422177,185.326913476,314.738206037,295.554055996,291.490549856,328.896033259,174.976649444,173.614181647,202.125889381,316.162157835,298.38233837,283.841597595,168.398192992,174.410475335,175.045650205,278.294272655,158.229656994,251.831235643,155.079441219,293.390413946,174.888388582,288.725061523,296.890634497,172.220500204,304.307012366,300.873432385,169.394134552,171.47141586,291.441498777,279.793810808,330.070087812,278.319820362,186.787019012,180.975895357,298.112232694,323.550308123,230.389485,167.082121476,302.503379263,155.090968987,274.725572609,110.020997151,265.217787767,169.895870241,305.764295178,158.274370285,178.78916609,293.355796143,174.955222496,181.830812813,292.181735524,174.217582101,323.690592996,170.850869421,325.990937023,92.9329445946,295.431883412,139.610642365,212.789795723,295.073863697,325.435864226,174.268979572,296.749096639,160.232654809,146.527552736,177.034070137,182.84162809,160.96267185,291.993036158,81.1343259805,184.850819148,295.411508254,286.376120704,342.65995531,274.223145197,169.987811755,275.453289787,292.734276435,299.029363355,331.210706358,245.122648483,158.840077454,329.274555079,293.686930026,176.872450292,163.662405597,168.421055243,184.670726648,199.168907893,319.999028519,225.441664103,302.505008528,183.593196876,172.459214028,287.503113291,133.491199785,179.960119221,291.461069342,184.011361286,329.222915324,323.907446185,290.480773662,295.42810738'"
      ]
     },
     "execution_count": 9,
     "metadata": {},
     "output_type": "execute_result"
    }
   ],
   "source": [
    "','.join(map(str, scilan_pred)) "
   ]
  }
 ],
 "metadata": {
  "kernelspec": {
   "display_name": "Python 3",
   "language": "python",
   "name": "python3"
  },
  "language_info": {
   "codemirror_mode": {
    "name": "ipython",
    "version": 3
   },
   "file_extension": ".py",
   "mimetype": "text/x-python",
   "name": "python",
   "nbconvert_exporter": "python",
   "pygments_lexer": "ipython3",
   "version": "3.5.2"
  }
 },
 "nbformat": 4,
 "nbformat_minor": 1
}
