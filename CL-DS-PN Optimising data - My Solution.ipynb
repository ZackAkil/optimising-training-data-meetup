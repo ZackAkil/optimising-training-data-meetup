{
 "cells": [
  {
   "cell_type": "markdown",
   "metadata": {},
   "source": [
    "# Central London Data Science Project Nights\n",
    "### Optimising training data for urban wind predictions\n",
    "The focus of this meetup is in finding out different ways in which training data can be structure in order to improve a models accuracy.\n",
    "\n",
    "\n",
    "### The data\n",
    "The data supplied is sythetically generated urban wind data from 3 streets. The csv is structure as follows:\n",
    "\n",
    "street 1 wind speed (m/s), street 1 wind direction (degrees), street 2 wind speed (m/s), street 2 wind direction (degrees), street 3 wind speed (m/s), street 3 wind direction (degrees)\n",
    "\n",
    "The predicted value is the wind direction of the 3rd street"
   ]
  },
  {
   "cell_type": "code",
   "execution_count": 19,
   "metadata": {
    "collapsed": false
   },
   "outputs": [],
   "source": [
    "%matplotlib inline\n",
    "import matplotlib.pyplot as plt\n",
    "import numpy as np\n",
    "import copy\n",
    "from sklearn import datasets, linear_model\n",
    "from sklearn.preprocessing import PolynomialFeatures"
   ]
  },
  {
   "cell_type": "markdown",
   "metadata": {},
   "source": [
    "### Load csv data\n",
    "street1 wind speed, street1 wind direction,street2 wind speed, street2 wind direction,street3 wind speed, street3 wind direction,"
   ]
  },
  {
   "cell_type": "code",
   "execution_count": 20,
   "metadata": {
    "collapsed": false
   },
   "outputs": [
    {
     "data": {
      "text/plain": [
       "(array([ 46.155,  54.67 ]), (2000, 6))"
      ]
     },
     "execution_count": 20,
     "metadata": {},
     "output_type": "execute_result"
    }
   ],
   "source": [
    "f = open(\"wind.csv\")\n",
    "data = np.loadtxt(f,delimiter=',')\n",
    "# show first row of data\n",
    "data[:2,3],data.shape"
   ]
  },
  {
   "cell_type": "markdown",
   "metadata": {},
   "source": [
    "# Transform the input data function (the fun bit)"
   ]
  },
  {
   "cell_type": "code",
   "execution_count": 21,
   "metadata": {
    "collapsed": true
   },
   "outputs": [],
   "source": [
    "def transformInputData(inputData):\n",
    "    l_input = copy.deepcopy(inputData)\n",
    "    # this is where you put explore different ways the data can be structured\n",
    "    l_input[:,0] = np.sin(np.deg2rad(l_input[:,1]))\n",
    "    l_input[:,1] = np.cos(np.deg2rad(l_input[:,1]))\n",
    "    l_input[:,2] = np.sin(np.deg2rad(l_input[:,3]))\n",
    "    l_input[:,3] = np.cos(np.deg2rad(l_input[:,3]))\n",
    "    # feel free to write one for the output data if needed\n",
    "    poly = PolynomialFeatures(2)\n",
    "    l_input= poly.fit_transform(l_input)\n",
    "    return l_input"
   ]
  },
  {
   "cell_type": "code",
   "execution_count": 22,
   "metadata": {
    "collapsed": true
   },
   "outputs": [],
   "source": [
    "def transformOutputDataCos(inputData):\n",
    "    \n",
    "    return np.cos(np.deg2rad(inputData))"
   ]
  },
  {
   "cell_type": "code",
   "execution_count": 23,
   "metadata": {
    "collapsed": true
   },
   "outputs": [],
   "source": [
    "def transformOutputDataSin(inputData):\n",
    "    \n",
    "    return np.sin(np.deg2rad(inputData))"
   ]
  },
  {
   "cell_type": "markdown",
   "metadata": {},
   "source": [
    "### Split data into training and test data"
   ]
  },
  {
   "cell_type": "code",
   "execution_count": 24,
   "metadata": {
    "collapsed": false
   },
   "outputs": [
    {
     "data": {
      "text/plain": [
       "array([[ 1.        ,  0.80812355, -0.58901302,  0.7212164 ,  0.69270983,\n",
       "         0.65306367, -0.47599529,  0.58283195,  0.55979512,  0.34693633,\n",
       "        -0.42480584, -0.40801511,  0.52015309,  0.49959369,  0.47984691],\n",
       "       [ 1.        , -0.27572124,  0.96123764,  0.81583491,  0.57828487,\n",
       "         0.0760222 , -0.26503363, -0.22494301, -0.15944542,  0.9239778 ,\n",
       "         0.78421122,  0.55586919,  0.6655866 ,  0.47178499,  0.3344134 ],\n",
       "       [ 1.        ,  0.77601338, -0.63071644,  0.92500428,  0.37995669,\n",
       "         0.60219677, -0.4894444 ,  0.7178157 ,  0.29485148,  0.39780323,\n",
       "        -0.58341541, -0.23964493,  0.85563291,  0.35146156,  0.14436709]])"
      ]
     },
     "execution_count": 24,
     "metadata": {},
     "output_type": "execute_result"
    }
   ],
   "source": [
    "# use first 4 columns as the input data to a our model\n",
    "x_data = transformInputData(data[:,:4])\n",
    "\n",
    "# use first 1500 rows as training input data\n",
    "x_train = x_data[:1500]\n",
    "\n",
    "# use the remaining 500 rows as test input data\n",
    "x_test = x_data[1500:]\n",
    "\n",
    "# show first 3 rows of training input data\n",
    "x_train[:3]"
   ]
  },
  {
   "cell_type": "code",
   "execution_count": 25,
   "metadata": {
    "collapsed": false
   },
   "outputs": [
    {
     "data": {
      "text/plain": [
       "array([-0.42696334,  0.88610653, -0.80059544])"
      ]
     },
     "execution_count": 25,
     "metadata": {},
     "output_type": "execute_result"
    }
   ],
   "source": [
    "# use 5th column as the ouput data to a our model\n",
    "y_data_cos = transformOutputDataCos(data[:,5])\n",
    "\n",
    "# use first 1500 rows as training ouput data\n",
    "y_train_cos = y_data_cos[:1500]\n",
    "\n",
    "# use the remaining 500 rows as test output data\n",
    "y_test_cos = y_data_cos[1500:]\n",
    "\n",
    "# show first 3 values of the training output data\n",
    "y_train_cos[:3]"
   ]
  },
  {
   "cell_type": "code",
   "execution_count": 26,
   "metadata": {
    "collapsed": false
   },
   "outputs": [
    {
     "data": {
      "text/plain": [
       "array([ 0.90426893, -0.46348163,  0.59920526])"
      ]
     },
     "execution_count": 26,
     "metadata": {},
     "output_type": "execute_result"
    }
   ],
   "source": [
    "# use 5th column as the ouput data to a our model\n",
    "y_data_sin = transformOutputDataSin(data[:,5])\n",
    "\n",
    "# use first 1500 rows as training ouput data\n",
    "y_train_sin = y_data_sin[:1500]\n",
    "\n",
    "# use the remaining 500 rows as test output data\n",
    "y_test_sin = y_data_sin[1500:]\n",
    "\n",
    "# show first 3 values of the training output data\n",
    "y_train_sin[:3]"
   ]
  },
  {
   "cell_type": "markdown",
   "metadata": {},
   "source": [
    "### Train model"
   ]
  },
  {
   "cell_type": "code",
   "execution_count": 27,
   "metadata": {
    "collapsed": false,
    "scrolled": true
   },
   "outputs": [
    {
     "name": "stdout",
     "output_type": "stream",
     "text": [
      "Coefficients: \n",
      " [ 0.          0.14103603  1.09233276 -0.22509345  0.27706426 -0.01919335\n",
      "  0.11263822 -0.14345951  0.04243563  0.01919335 -0.10744799 -0.0130007\n",
      " -0.01692696 -0.04008433  0.01692696]\n",
      "Mean squared error: 0.08\n"
     ]
    }
   ],
   "source": [
    "regr_cos = linear_model.LinearRegression()\n",
    "regr_cos.fit(x_train, y_train_cos)\n",
    "print('Coefficients: \\n', regr_cos.coef_)\n",
    "print(\"Mean squared error: %.2f\"% np.mean((regr_cos.predict(x_test) - y_test_cos) ** 2))"
   ]
  },
  {
   "cell_type": "code",
   "execution_count": 28,
   "metadata": {
    "collapsed": false,
    "scrolled": true
   },
   "outputs": [
    {
     "name": "stdout",
     "output_type": "stream",
     "text": [
      "Coefficients: \n",
      " [ 0.          0.39383573 -0.51958009 -0.06341226  0.18685443 -0.01487547\n",
      " -0.06711079  0.05787682 -0.02068715  0.01487547  0.03673878  0.0059503\n",
      "  0.00866489 -0.00542091 -0.00866489]\n",
      "Mean squared error: 0.05\n"
     ]
    }
   ],
   "source": [
    "regr_sin = linear_model.LinearRegression()\n",
    "regr_sin.fit(x_train, y_train_sin)\n",
    "print('Coefficients: \\n', regr_sin.coef_)\n",
    "print(\"Mean squared error: %.2f\"% np.mean((regr_sin.predict(x_test) - y_test_sin) ** 2))"
   ]
  },
  {
   "cell_type": "markdown",
   "metadata": {},
   "source": [
    "### Plot predictions"
   ]
  },
  {
   "cell_type": "code",
   "execution_count": 29,
   "metadata": {
    "collapsed": false
   },
   "outputs": [
    {
     "data": {
      "text/plain": [
       "array([ 126.087])"
      ]
     },
     "execution_count": 29,
     "metadata": {},
     "output_type": "execute_result"
    }
   ],
   "source": [
    "data[:1,1]"
   ]
  },
  {
   "cell_type": "markdown",
   "metadata": {},
   "source": [
    "### Predict cos"
   ]
  },
  {
   "cell_type": "code",
   "execution_count": 30,
   "metadata": {
    "collapsed": false,
    "scrolled": true
   },
   "outputs": [
    {
     "data": {
      "image/png": "[encoded data removed]",
      "text/plain": [
       "<matplotlib.figure.Figure at 0x1125b4128>"
      ]
     },
     "metadata": {},
     "output_type": "display_data"
    }
   ],
   "source": [
    "plt.figure(0)\n",
    "plt.scatter(data[:1500,1], y_train_cos,  color='black', s=1)\n",
    "plt.scatter(data[1500:,1], regr_cos.predict(x_test),  color='red', s=1)\n",
    "plt.show()"
   ]
  },
  {
   "cell_type": "markdown",
   "metadata": {},
   "source": [
    "### Predict sin"
   ]
  },
  {
   "cell_type": "code",
   "execution_count": 31,
   "metadata": {
    "collapsed": false,
    "scrolled": true
   },
   "outputs": [
    {
     "data": {
      "image/png": "[encoded data removed]",
      "text/plain": [
       "<matplotlib.figure.Figure at 0x1125c2f98>"
      ]
     },
     "metadata": {},
     "output_type": "display_data"
    }
   ],
   "source": [
    "plt.figure(1)\n",
    "plt.scatter(data[:1500,1], y_train_sin,  color='black', s=1)\n",
    "plt.scatter(data[1500:,1], regr_sin.predict(x_test),  color='red', s=1)\n",
    "plt.show()"
   ]
  },
  {
   "cell_type": "code",
   "execution_count": 32,
   "metadata": {
    "collapsed": false
   },
   "outputs": [
    {
     "data": {
      "text/plain": [
       "array([ 126.087,  343.995,  129.103, ...,  125.694,  119.548,  321.889])"
      ]
     },
     "execution_count": 32,
     "metadata": {},
     "output_type": "execute_result"
    }
   ],
   "source": [
    "data[:1500,1]"
   ]
  },
  {
   "cell_type": "markdown",
   "metadata": {},
   "source": [
    "### Use atan2 to merge sin and cos predictions"
   ]
  },
  {
   "cell_type": "code",
   "execution_count": 39,
   "metadata": {
    "collapsed": false
   },
   "outputs": [],
   "source": [
    "real = np.arctan2( regr_sin.predict(x_test),regr_cos.predict(x_test)) * 180 / np.pi"
   ]
  },
  {
   "cell_type": "code",
   "execution_count": 44,
   "metadata": {
    "collapsed": false
   },
   "outputs": [
    {
     "data": {
      "image/png": "[encoded data removed]",
      "text/plain": [
       "<matplotlib.figure.Figure at 0x1123279e8>"
      ]
     },
     "metadata": {},
     "output_type": "display_data"
    }
   ],
   "source": [
    "plt.figure(2)\n",
    "plt.scatter(data[:1500,1],data[:1500,5],  color='black', s=1)\n",
    "plt.scatter(data[1500:,1], real,  color='red', s=1)\n",
    "plt.show()"
   ]
  },
  {
   "cell_type": "markdown",
   "metadata": {},
   "source": [
    "### Use modulo to loop values from 0 to 360"
   ]
  },
  {
   "cell_type": "code",
   "execution_count": 45,
   "metadata": {
    "collapsed": false
   },
   "outputs": [
    {
     "data": {
      "image/png": "[encoded data removed]",
      "text/plain": [
       "<matplotlib.figure.Figure at 0x112aec9e8>"
      ]
     },
     "metadata": {},
     "output_type": "display_data"
    }
   ],
   "source": [
    "plt.figure(2)\n",
    "plt.scatter(data[:1500,1],data[:1500,5],  color='black', s=1)\n",
    "plt.scatter(data[1500:,1], np.mod(real,360),  color='red', s=1)\n",
    "plt.show()"
   ]
  },
  {
   "cell_type": "code",
   "execution_count": null,
   "metadata": {
    "collapsed": true
   },
   "outputs": [],
   "source": []
  }
 ],
 "metadata": {
  "kernelspec": {
   "display_name": "Python 3",
   "language": "python",
   "name": "python3"
  },
  "language_info": {
   "codemirror_mode": {
    "name": "ipython",
    "version": 3
   },
   "file_extension": ".py",
   "mimetype": "text/x-python",
   "name": "python",
   "nbconvert_exporter": "python",
   "pygments_lexer": "ipython3",
   "version": "3.5.2"
  }
 },
 "nbformat": 4,
 "nbformat_minor": 1
}
