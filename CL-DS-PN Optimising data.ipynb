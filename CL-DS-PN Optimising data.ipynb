{
 "cells": [
  {
   "cell_type": "markdown",
   "metadata": {},
   "source": [
    "# Central London Data Science Project Nights\n",
    "### Optimising training data for urban wind predictions\n",
    "The focus of this meetup is in finding out different ways in which training data can be structure in order to improve a models accuracy.\n",
    "\n",
    "\n",
    "### The data\n",
    "The data supplied is sythetically generated urban wind data from 3 streets. The csv is structure as follows:\n",
    "\n",
    "street 1 wind speed (m/s), street 1 wind direction (degrees), street 2 wind speed (m/s), street 2 wind direction (degrees), street 3 wind speed (m/s), street 3 wind direction (degrees)\n",
    "\n",
    "The predicted value is the wind direction of the 3rd street"
   ]
  },
  {
   "cell_type": "code",
   "execution_count": 1,
   "metadata": {
    "collapsed": false
   },
   "outputs": [],
   "source": [
    "%matplotlib inline\n",
    "import matplotlib.pyplot as plt\n",
    "import numpy as np\n",
    "from sklearn import datasets, linear_model\n",
    "from sklearn.preprocessing import PolynomialFeatures"
   ]
  },
  {
   "cell_type": "markdown",
   "metadata": {},
   "source": [
    "### Load csv data\n",
    "street1 wind speed, street1 wind direction,street2 wind speed, street2 wind direction,street3 wind speed, street3 wind direction,"
   ]
  },
  {
   "cell_type": "code",
   "execution_count": 2,
   "metadata": {
    "collapsed": false
   },
   "outputs": [
    {
     "data": {
      "text/plain": [
       "(array([[  38.57 ,  126.087,   47.134,   46.155,   19.41 ,  115.275]]),\n",
       " (2000, 6))"
      ]
     },
     "execution_count": 2,
     "metadata": {},
     "output_type": "execute_result"
    }
   ],
   "source": [
    "f = open(\"wind.csv\")\n",
    "data = np.loadtxt(f,delimiter=',')\n",
    "# show first row of data\n",
    "data[:1],data.shape"
   ]
  },
  {
   "cell_type": "markdown",
   "metadata": {},
   "source": [
    "# Transform the input data function (the fun bit)"
   ]
  },
  {
   "cell_type": "code",
   "execution_count": 3,
   "metadata": {
    "collapsed": true
   },
   "outputs": [],
   "source": [
    "def transformInputData(inputData):\n",
    "    \n",
    "    # this is where you put explore different way the data can be structed\n",
    "    \n",
    "    # feel free to write one for the output data to if you want \n",
    "    \n",
    "    return inputData"
   ]
  },
  {
   "cell_type": "markdown",
   "metadata": {},
   "source": [
    "### Split data into training and test data"
   ]
  },
  {
   "cell_type": "code",
   "execution_count": 4,
   "metadata": {
    "collapsed": false
   },
   "outputs": [
    {
     "data": {
      "text/plain": [
       "array([[  38.57 ,  126.087,   47.134,   46.155],\n",
       "       [  26.019,  343.995,   31.961,   54.67 ],\n",
       "       [  38.568,  129.103,   31.58 ,   67.669]])"
      ]
     },
     "execution_count": 4,
     "metadata": {},
     "output_type": "execute_result"
    }
   ],
   "source": [
    "# use first 4 columns as the input data to a our model\n",
    "x_data = transformInputData(data[:,:4])\n",
    "\n",
    "# use first 1500 rows as training input data\n",
    "x_train = x_data[:1500]\n",
    "\n",
    "# use the remaining 500 rows as test input data\n",
    "x_test = x_data[1500:]\n",
    "\n",
    "# show first 3 rows of training input data\n",
    "x_train[:3]"
   ]
  },
  {
   "cell_type": "code",
   "execution_count": 5,
   "metadata": {
    "collapsed": false
   },
   "outputs": [
    {
     "data": {
      "text/plain": [
       "array([ 115.275,  332.388,  143.187])"
      ]
     },
     "execution_count": 5,
     "metadata": {},
     "output_type": "execute_result"
    }
   ],
   "source": [
    "# use 5th column as the ouput data to a our model\n",
    "y_data = data[:,5]\n",
    "\n",
    "# use first 1500 rows as training ouput data\n",
    "y_train = y_data[:1500]\n",
    "\n",
    "# use the remaining 500 rows as test output data\n",
    "y_test = y_data[1500:]\n",
    "\n",
    "# show first 3 rows of training output data\n",
    "y_train[:3]"
   ]
  },
  {
   "cell_type": "markdown",
   "metadata": {},
   "source": [
    "### Train model"
   ]
  },
  {
   "cell_type": "code",
   "execution_count": 6,
   "metadata": {
    "collapsed": false
   },
   "outputs": [
    {
     "name": "stdout",
     "output_type": "stream",
     "text": [
      "Coefficients: \n",
      " [ 0.22249504  0.76446031 -0.17549725 -0.08686491]\n",
      "Mean squared error: 5106.20\n"
     ]
    }
   ],
   "source": [
    "regr = linear_model.LinearRegression()\n",
    "regr.fit(x_train, y_train)\n",
    "print('Coefficients: \\n', regr.coef_)\n",
    "print(\"Mean squared error: %.2f\"% np.mean((regr.predict(x_test) - y_test) ** 2))"
   ]
  },
  {
   "cell_type": "markdown",
   "metadata": {},
   "source": [
    "### Plot predictions"
   ]
  },
  {
   "cell_type": "code",
   "execution_count": 7,
   "metadata": {
    "collapsed": false
   },
   "outputs": [
    {
     "data": {
      "image/png": "[encoded data removed]",
      "text/plain": [
       "<matplotlib.figure.Figure at 0x10f25c390>"
      ]
     },
     "metadata": {},
     "output_type": "display_data"
    }
   ],
   "source": [
    "plt.scatter(x_train[:,1], y_train,  color='black', s=1)\n",
    "plt.scatter(x_test[:,1], regr.predict(x_test),  color='red', s=1)\n",
    "plt.show()"
   ]
  }
 ],
 "metadata": {
  "kernelspec": {
   "display_name": "Python 3",
   "language": "python",
   "name": "python3"
  },
  "language_info": {
   "codemirror_mode": {
    "name": "ipython",
    "version": 3
   },
   "file_extension": ".py",
   "mimetype": "text/x-python",
   "name": "python",
   "nbconvert_exporter": "python",
   "pygments_lexer": "ipython3",
   "version": "3.5.2"
  }
 },
 "nbformat": 4,
 "nbformat_minor": 1
}
