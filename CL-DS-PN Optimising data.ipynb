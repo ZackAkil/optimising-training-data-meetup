{
 "cells": [
  {
   "cell_type": "markdown",
   "metadata": {},
   "source": [
    "# Central London Data Science Project Nights\n",
    "### Optimising training data for urban wind predictions\n",
    "The focus of this meetup is in finding out different ways in which training data can be structure in order to improve a models accuracy."
   ]
  },
  {
   "cell_type": "code",
   "execution_count": 130,
   "metadata": {
    "collapsed": false
   },
   "outputs": [],
   "source": [
    "%matplotlib inline\n",
    "import matplotlib.pyplot as plt\n",
    "import numpy as np\n",
    "from sklearn import datasets, linear_model\n",
    "from sklearn.preprocessing import PolynomialFeatures"
   ]
  },
  {
   "cell_type": "markdown",
   "metadata": {},
   "source": [
    "### Load csv data\n",
    "street1 wind speed, street1 wind direction,street2 wind speed, street2 wind direction,street3 wind speed, street3 wind direction,"
   ]
  },
  {
   "cell_type": "code",
   "execution_count": 131,
   "metadata": {
    "collapsed": false
   },
   "outputs": [
    {
     "data": {
      "text/plain": [
       "array([[  15.9345127 ,   29.25162205,   24.50791318,   44.61180331,\n",
       "          13.02758476,  340.71438588]])"
      ]
     },
     "execution_count": 131,
     "metadata": {},
     "output_type": "execute_result"
    }
   ],
   "source": [
    "f = open(\"wind.csv\")\n",
    "data = np.loadtxt(f,delimiter=',')\n",
    "# show first row of data\n",
    "data[:1]"
   ]
  },
  {
   "cell_type": "markdown",
   "metadata": {},
   "source": [
    "# Transform the input data function (the fun bit)"
   ]
  },
  {
   "cell_type": "code",
   "execution_count": 132,
   "metadata": {
    "collapsed": true
   },
   "outputs": [],
   "source": [
    "def transformInputData(inputData):\n",
    "    \n",
    "    # this is where you put explore different way the data can be structed\n",
    "    \n",
    "    # feel free to write one for the output data to if you want \n",
    "    # (dont forget to reverse what you do for the output when submiting to scilan)\n",
    "    \n",
    "    return inputData"
   ]
  },
  {
   "cell_type": "markdown",
   "metadata": {},
   "source": [
    "### Split data into training and test data"
   ]
  },
  {
   "cell_type": "code",
   "execution_count": 133,
   "metadata": {
    "collapsed": false
   },
   "outputs": [
    {
     "data": {
      "text/plain": [
       "array([[  15.9345127 ,   29.25162205,   24.50791318,   44.61180331],\n",
       "       [  10.21189025,  315.17133973,   10.26967026,   35.34176822],\n",
       "       [  25.47812649,  312.00830096,   22.7583128 ,   24.10391431]])"
      ]
     },
     "execution_count": 133,
     "metadata": {},
     "output_type": "execute_result"
    }
   ],
   "source": [
    "# use first 4 columns as the input data to a our model\n",
    "x_data = transformInputData(data[:,:4])\n",
    "\n",
    "# use first 700 rows as training input data\n",
    "x_train = x_data[:700]\n",
    "\n",
    "# use the remaining 200 rows as test input data\n",
    "x_test = x_data[700:]\n",
    "\n",
    "# show first 3 rows of training input data\n",
    "x_train[:3]"
   ]
  },
  {
   "cell_type": "code",
   "execution_count": 134,
   "metadata": {
    "collapsed": false
   },
   "outputs": [
    {
     "data": {
      "text/plain": [
       "array([ 340.71438588,  330.08295494,  330.01901534])"
      ]
     },
     "execution_count": 134,
     "metadata": {},
     "output_type": "execute_result"
    }
   ],
   "source": [
    "# use 5th column as the ouput data to a our model\n",
    "y_data = data[:,5]\n",
    "\n",
    "# use first 700 rows as training ouput data\n",
    "y_train = y_data[:700]\n",
    "\n",
    "# use the remaining 200 rows as test output data\n",
    "y_test = y_data[700:]\n",
    "\n",
    "# show first 3 rows of training output data\n",
    "y_train[:3]"
   ]
  },
  {
   "cell_type": "markdown",
   "metadata": {},
   "source": [
    "### Train model"
   ]
  },
  {
   "cell_type": "code",
   "execution_count": 135,
   "metadata": {
    "collapsed": false
   },
   "outputs": [
    {
     "name": "stdout",
     "output_type": "stream",
     "text": [
      "Coefficients: \n",
      " [ 0.1144747   0.75500637 -0.10781496 -0.07001252]\n",
      "Mean squared error: 3915.70\n"
     ]
    }
   ],
   "source": [
    "regr = linear_model.LinearRegression()\n",
    "regr.fit(x_train, y_train)\n",
    "print('Coefficients: \\n', regr.coef_)\n",
    "print(\"Mean squared error: %.2f\"% np.mean((regr.predict(x_test) - y_test) ** 2))"
   ]
  },
  {
   "cell_type": "markdown",
   "metadata": {},
   "source": [
    "### Plot predictions"
   ]
  },
  {
   "cell_type": "code",
   "execution_count": 136,
   "metadata": {
    "collapsed": false
   },
   "outputs": [
    {
     "data": {
      "image/png": "[encoded data removed]",
      "text/plain": [
       "<matplotlib.figure.Figure at 0x1169eb358>"
      ]
     },
     "metadata": {},
     "output_type": "display_data"
    }
   ],
   "source": [
    "plt.scatter(x_train[:,1], y_train,  color='black', s=1)\n",
    "plt.scatter(x_test[:,1], regr.predict(x_test),  color='red', s=1)\n",
    "plt.show()"
   ]
  },
  {
   "cell_type": "markdown",
   "metadata": {},
   "source": [
    "# Scilan data entry"
   ]
  },
  {
   "cell_type": "code",
   "execution_count": 137,
   "metadata": {
    "collapsed": false
   },
   "outputs": [
    {
     "data": {
      "text/plain": [
       "<matplotlib.collections.PathCollection at 0x1169bd080>"
      ]
     },
     "execution_count": 137,
     "metadata": {},
     "output_type": "execute_result"
    },
    {
     "data": {
      "image/png": "[encoded data removed]",
      "text/plain": [
       "<matplotlib.figure.Figure at 0x116a09e48>"
      ]
     },
     "metadata": {},
     "output_type": "display_data"
    }
   ],
   "source": [
    "f = open(\"scilan-wind.csv\")\n",
    "scilan_data = np.loadtxt(f,delimiter=',')\n",
    "\n",
    "scilan_x = transformInputData(scilan_data)\n",
    "\n",
    "scilan_pred = regr.predict(scilan_x)\n",
    "\n",
    "plt.scatter(scilan_data[:,1], scilan_pred,  color='red', s=1)"
   ]
  },
  {
   "cell_type": "markdown",
   "metadata": {},
   "source": [
    "## Copy the ouput of the following code into the 'Predicted Output' field of the submit attempt page (excluding the quotes) "
   ]
  },
  {
   "cell_type": "code",
   "execution_count": 138,
   "metadata": {
    "collapsed": false
   },
   "outputs": [
    {
     "data": {
      "text/plain": [
       "'314.148226949,171.812474443,296.151426968,168.76201626,168.363332327,165.23059054,167.385149432,166.92966504,315.53992357,167.717293614,296.040827703,166.028122825,313.995609566,189.82147322,172.911095696,167.428132139,157.915912928,250.933162857,314.596052005,94.8315588175,292.749633267,172.878425541,292.750483312,155.860762714,290.21200917,173.065079014,314.445217753,242.227231736,171.087352763,129.531407334,290.251536027,296.804231348,314.432023886,314.661951176,290.550412403,168.358703698,173.11220423,172.851399355,93.0426241457,314.239469138,201.749049388,165.112707635,183.044129311,277.657133414,328.898643592,278.785026646,171.772342621,296.708111697,172.650119803,173.270434521,294.639427164,102.547319457,166.136085823,288.08201915,181.822584211,296.069948331,226.558871066,317.688064217,176.069355945,293.780328412,314.812685776,188.010732746,152.708394516,293.144232279,314.069968218,329.21961357,294.290774318,294.117335836,160.219624251,243.405643602,170.518550931,186.311553849,313.856685497,183.020220663,292.850825343,167.065180656,296.370729504,292.064372053,148.002983704,172.590408252,288.022818885,165.820653388,325.89374764,291.939343954,269.654722839,176.964067498,196.830917199,165.630445221,94.8000037415,347.112344325,316.864269528,185.75699245,166.157958651,151.070554962,291.378599211,169.015697198,168.647835247,166.059107517,296.390546686,295.833030373'"
      ]
     },
     "execution_count": 138,
     "metadata": {},
     "output_type": "execute_result"
    }
   ],
   "source": [
    "','.join(map(str, scilan_pred)) "
   ]
  }
 ],
 "metadata": {
  "kernelspec": {
   "display_name": "Python 3",
   "language": "python",
   "name": "python3"
  },
  "language_info": {
   "codemirror_mode": {
    "name": "ipython",
    "version": 3
   },
   "file_extension": ".py",
   "mimetype": "text/x-python",
   "name": "python",
   "nbconvert_exporter": "python",
   "pygments_lexer": "ipython3",
   "version": "3.5.2"
  }
 },
 "nbformat": 4,
 "nbformat_minor": 1
}
